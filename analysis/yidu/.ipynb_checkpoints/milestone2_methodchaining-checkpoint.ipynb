{
 "cells": [
  {
   "cell_type": "code",
   "execution_count": 6,
   "metadata": {},
   "outputs": [],
   "source": [
    "import pandas as pd\n",
    "import numpy as np\n",
    "import matplotlib.pyplot as plt\n",
    "import seaborn as sns\n",
    "\n",
    "\n",
    "#implmenating same process as wrangled_data in processed data folder using method chaining\n",
    "df= pd.read_csv('AirQualityUCI.csv').drop(columns=['PT08.S1(CO)', 'PT08.S2(NMHC)','PT08.S3(NOx)','PT08.S4(NO2)','PT08.S5(O3)','Unnamed: 15','Unnamed: 16','RH','AH']).dropna().rename(columns={\"NMHC(GT)\": \"Nonmethane Hydrocarbons\", \"C6H6(GT)\": \"Benzene\", \"NOx(GT)\": \"Nitrogen Oxides\", \"NO2(GT)\": \"Nitrogen Dioxide\"})\n",
    "\n",
    "df.head()\n",
    "\n",
    "\n",
    "#imlementating method chaining via a function\n",
    "def load_and_process(url_or_path_to_csv_file):\n",
    "    df1 = (pd.read_csv(url_or_path_to_csv_file)\n",
    "          .rename(columns={\"NMHC(GT)\": \"Nonmethane Hydrocarbons\", \"C6H6(GT)\": \"Benzene\", \"NOx(GT)\": \"Nitrogen Oxides\", \"NO2(GT)\": \"Nitrogen Dioxide\"})\n",
    "          .dropna()\n",
    "          )\n",
    "    #added more changes, these are new changes that was not in the original wrangled data\n",
    "    df2 = (df1.drop(columns=['PT08.S1(CO)', 'PT08.S2(NMHC)','PT08.S3(NOx)','PT08.S4(NO2)','PT08.S5(O3)','Unnamed: 15','Unnamed: 16','RH','AH'])\n",
    "          )\n",
    "    return df2\n",
    "\n",
    "#See wrangle_withFunction to see implementation of this function\n"
   ]
  },
  {
   "cell_type": "code",
   "execution_count": null,
   "metadata": {},
   "outputs": [],
   "source": []
  },
  {
   "cell_type": "code",
   "execution_count": null,
   "metadata": {},
   "outputs": [],
   "source": []
  }
 ],
 "metadata": {
  "kernelspec": {
   "display_name": "Python 3",
   "language": "python",
   "name": "python3"
  },
  "language_info": {
   "codemirror_mode": {
    "name": "ipython",
    "version": 3
   },
   "file_extension": ".py",
   "mimetype": "text/x-python",
   "name": "python",
   "nbconvert_exporter": "python",
   "pygments_lexer": "ipython3",
   "version": "3.8.3"
  }
 },
 "nbformat": 4,
 "nbformat_minor": 4
}
