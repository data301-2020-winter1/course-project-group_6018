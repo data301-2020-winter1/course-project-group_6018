{
 "cells": [
  {
   "cell_type": "code",
   "execution_count": 28,
   "metadata": {},
   "outputs": [
    {
     "data": {
      "text/html": [
       "<div>\n",
       "<style scoped>\n",
       "    .dataframe tbody tr th:only-of-type {\n",
       "        vertical-align: middle;\n",
       "    }\n",
       "\n",
       "    .dataframe tbody tr th {\n",
       "        vertical-align: top;\n",
       "    }\n",
       "\n",
       "    .dataframe thead th {\n",
       "        text-align: right;\n",
       "    }\n",
       "</style>\n",
       "<table border=\"1\" class=\"dataframe\">\n",
       "  <thead>\n",
       "    <tr style=\"text-align: right;\">\n",
       "      <th></th>\n",
       "      <th>Date</th>\n",
       "      <th>Time</th>\n",
       "      <th>CO(GT)</th>\n",
       "      <th>Nonmethane Hydrocarbons</th>\n",
       "      <th>Benzene</th>\n",
       "      <th>Nitrogen Oxides</th>\n",
       "      <th>Nitrogen Dioxide</th>\n",
       "      <th>T</th>\n",
       "    </tr>\n",
       "  </thead>\n",
       "  <tbody>\n",
       "    <tr>\n",
       "      <th>0</th>\n",
       "      <td>2004/3/10</td>\n",
       "      <td>18:00:00</td>\n",
       "      <td>2.6</td>\n",
       "      <td>150.0</td>\n",
       "      <td>11.9</td>\n",
       "      <td>166.0</td>\n",
       "      <td>113.0</td>\n",
       "      <td>13.6</td>\n",
       "    </tr>\n",
       "    <tr>\n",
       "      <th>1</th>\n",
       "      <td>2004/3/10</td>\n",
       "      <td>19:00:00</td>\n",
       "      <td>2.0</td>\n",
       "      <td>112.0</td>\n",
       "      <td>9.4</td>\n",
       "      <td>103.0</td>\n",
       "      <td>92.0</td>\n",
       "      <td>13.3</td>\n",
       "    </tr>\n",
       "    <tr>\n",
       "      <th>2</th>\n",
       "      <td>2004/3/10</td>\n",
       "      <td>20:00:00</td>\n",
       "      <td>2.2</td>\n",
       "      <td>88.0</td>\n",
       "      <td>9.0</td>\n",
       "      <td>131.0</td>\n",
       "      <td>114.0</td>\n",
       "      <td>11.9</td>\n",
       "    </tr>\n",
       "    <tr>\n",
       "      <th>3</th>\n",
       "      <td>2004/3/10</td>\n",
       "      <td>21:00:00</td>\n",
       "      <td>2.2</td>\n",
       "      <td>80.0</td>\n",
       "      <td>9.2</td>\n",
       "      <td>172.0</td>\n",
       "      <td>122.0</td>\n",
       "      <td>11.0</td>\n",
       "    </tr>\n",
       "    <tr>\n",
       "      <th>4</th>\n",
       "      <td>2004/3/10</td>\n",
       "      <td>22:00:00</td>\n",
       "      <td>1.6</td>\n",
       "      <td>51.0</td>\n",
       "      <td>6.5</td>\n",
       "      <td>131.0</td>\n",
       "      <td>116.0</td>\n",
       "      <td>11.2</td>\n",
       "    </tr>\n",
       "  </tbody>\n",
       "</table>\n",
       "</div>"
      ],
      "text/plain": [
       "        Date      Time  CO(GT)  Nonmethane Hydrocarbons  Benzene  \\\n",
       "0  2004/3/10  18:00:00     2.6                    150.0     11.9   \n",
       "1  2004/3/10  19:00:00     2.0                    112.0      9.4   \n",
       "2  2004/3/10  20:00:00     2.2                     88.0      9.0   \n",
       "3  2004/3/10  21:00:00     2.2                     80.0      9.2   \n",
       "4  2004/3/10  22:00:00     1.6                     51.0      6.5   \n",
       "\n",
       "   Nitrogen Oxides  Nitrogen Dioxide     T  \n",
       "0            166.0             113.0  13.6  \n",
       "1            103.0              92.0  13.3  \n",
       "2            131.0             114.0  11.9  \n",
       "3            172.0             122.0  11.0  \n",
       "4            131.0             116.0  11.2  "
      ]
     },
     "execution_count": 28,
     "metadata": {},
     "output_type": "execute_result"
    }
   ],
   "source": [
    "import pandas as pd\n",
    "import numpy as np\n",
    "import matplotlib.pyplot as plt\n",
    "import seaborn as sns\n",
    "\n",
    "##Task 3-Step 1: Build and test your method chain(s)\n",
    "\n",
    "#loaded data\n",
    "df = pd.read_csv(\"AirQualityUCI.csv\")\n",
    "df.head()\n",
    "\n",
    "#Method chaining\n",
    "df = (df\n",
    "      .drop(columns=['PT08.S1(CO)', 'PT08.S2(NMHC)','PT08.S3(NOx)','PT08.S4(NO2)','PT08.S5(O3)','Unnamed: 15','Unnamed: 16','RH','AH'])\n",
    "      .dropna()\n",
    "      .rename(columns={\"NMHC(GT)\": \"Nonmethane Hydrocarbons\", \"C6H6(GT)\": \"Benzene\", \"NOx(GT)\": \"Nitrogen Oxides\", \"NO2(GT)\": \"Nitrogen Dioxide\"})  \n",
    "     )\n",
    "\n",
    "\n",
    "df.head()\n"
   ]
  },
  {
   "cell_type": "code",
   "execution_count": 29,
   "metadata": {},
   "outputs": [],
   "source": [
    "##Task 3-Step 2 : Wrap your method chain(s) in a function\n",
    "\n",
    "\n",
    "def load_and_process(AirQualityUCI_csv):\n",
    "\n",
    "    # Method Chain 1 (Load data and deal with missing data)\n",
    "\n",
    "    df1 = (\n",
    "          pd.read_csv(\"AirQualityUCI.csv\")\n",
    "          .rename(columns={\"NMHC(GT)\": \"Nonmethane Hydrocarbons\", \"C6H6(GT)\": \"Benzene\", \"NOx(GT)\": \"Nitrogen Oxides\", \"NO2(GT)\": \"Nitrogen Dioxide\"})\n",
    "      )\n",
    "\n",
    "    # Method Chain 2 (Create new columns, drop others, and do processing)\n",
    "\n",
    "    df2 = (\n",
    "          df1\n",
    "          .dropna()\n",
    "          .drop(columns=['PT08.S1(CO)', 'PT08.S2(NMHC)','PT08.S3(NOx)','PT08.S4(NO2)','PT08.S5(O3)','Unnamed: 15','Unnamed: 16','RH','AH'])\n",
    "      )\n",
    "\n",
    "    # Make sure to return the latest dataframe\n",
    "\n",
    "    return df2 \n"
   ]
  },
  {
   "cell_type": "code",
   "execution_count": null,
   "metadata": {},
   "outputs": [],
   "source": []
  },
  {
   "cell_type": "code",
   "execution_count": 31,
   "metadata": {},
   "outputs": [
    {
     "data": {
      "text/plain": [
       "Text(0, 0.5, 'Time')"
      ]
     },
     "execution_count": 31,
     "metadata": {},
     "output_type": "execute_result"
    },
    {
     "data": {
      "image/png": "[encoded data removed]",
      "text/plain": [
       "<Figure size 432x432 with 1 Axes>"
      ]
     },
     "metadata": {
      "needs_background": "light"
     },
     "output_type": "display_data"
    }
   ],
   "source": [
    "##Task 4 : Conduct an Exploratory Data Analysis (EDA) on your dataset\n",
    "\n",
    "#Involve at least two columns/features of your dataset:\n",
    "df_cleaned1= df[df['Nitrogen Oxides']>1000]\n",
    "\n",
    "\n",
    "\n",
    "#At least three useful visualizations created by you:\n",
    "f = plt.figure(figsize=(6, 6))\n",
    "gs = f.add_gridspec(2, 2)\n",
    "\n",
    "v1 = sns.countplot(y = \"CO(GT)\", hue = \"Time\", data=df, palette=\"colorblind\")\n",
    "v1.set(xlim=(0, 80))\n",
    "plt.title(\"CO(GT) values at different time\")\n",
    "plt.xlabel(\"CO(GT) values\")\n",
    "plt.ylabel(\"Time\")\n",
    "\n",
    "v2 = sns.displot(df, x = \"days_since\", hue = \"Sex\",multiple=\"dodge\", aspect = 2)\n",
    "plt.xlabel(\"Days since first reported case\")\n",
    "plt.ylabel(\"Number of reported cases\")\n",
    "plt.title(\"Reported COVID-19 by sex\")\n",
    "\n",
    "#Some notes and commentary to help others see observations you find interesting:"
   ]
  },
  {
   "cell_type": "code",
   "execution_count": null,
   "metadata": {},
   "outputs": [],
   "source": []
  }
 ],
 "metadata": {
  "kernelspec": {
   "display_name": "Python 3",
   "language": "python",
   "name": "python3"
  },
  "language_info": {
   "codemirror_mode": {
    "name": "ipython",
    "version": 3
   },
   "file_extension": ".py",
   "mimetype": "text/x-python",
   "name": "python",
   "nbconvert_exporter": "python",
   "pygments_lexer": "ipython3",
   "version": "3.8.3"
  }
 },
 "nbformat": 4,
 "nbformat_minor": 4
}
